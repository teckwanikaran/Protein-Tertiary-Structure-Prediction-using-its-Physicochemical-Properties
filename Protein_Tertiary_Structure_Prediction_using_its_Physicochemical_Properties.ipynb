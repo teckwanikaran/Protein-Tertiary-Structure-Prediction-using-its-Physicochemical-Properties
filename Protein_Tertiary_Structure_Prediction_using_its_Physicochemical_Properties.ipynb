{
 "cells": [
  {
   "cell_type": "markdown",
   "metadata": {},
   "source": [
    "# Protein Tertiary Structure Prediction using its Physicochemical Properties "
   ]
  },
  {
   "cell_type": "markdown",
   "metadata": {},
   "source": [
    "Proteins are biomolecules composed of long chain of amino acid residues. They are essential to carry out numerous activities in an organism such as, transporting molecules in the body, replication of DNA, catalysis of metabolic reactions etc. The retrospective study of its structure reveals that their arrangement is 3D and in order to understand the molecular mechanism of any protein it is necessary to determine its 3D structure. The structure is determined using various techniques such as X-ray crystallography, NMR spectroscopy etc. The protein structure is divided into four levels such as, primary structure (1<sup>o</sup>), secondary structure (2<sup>o</sup>), tertiary structure (3<sup>o</sup>), and quaternary structure (4<sup>o</sup>).\n",
    "\n",
    "The sequence of amino acids in the polypeptide chain of the protein starts with the carboxyl terminus (C-terminal) and ends with the amino terminus (N-terminal). The primary structure folds into 𝛼-helix and 𝛽-sheets to give its secondary structure. Further this is packed into tertiary structure consisting of 𝛼-helix 𝛽-sheets and coils (Figure 1). The data used in this project consist of the physicochemical properties of the protein tertiary structure. The data is open source and obtained from UCI machine learning repository.\n",
    "\n",
    "<figure><img src='Images/Levels_of_Protein_01.png' width=\"200\"><figcaption><center><b><i>Figure1: Levels of Protein</b></i></center></figcaption></figure>\n",
    "\n",
    "The <b>goal</b> of this project are as follows:\n",
    "\n",
    "- Download the data from UCI machine learning repository.\n",
    "- Perform exploratory data analysis and data pre-processing.\n",
    "- Build various regression models to predict the labels."
   ]
  },
  {
   "cell_type": "markdown",
   "metadata": {
    "toc": true
   },
   "source": [
    "<h1>Table of Contents<span class=\"tocSkip\"></span></h1>\n",
    "<div class=\"toc\"><ul class=\"toc-item\"><li><span><a href=\"#Import-data-and-dependencies\" data-toc-modified-id=\"Import-data-and-dependencies-1\"><span class=\"toc-item-num\">1&nbsp;&nbsp;</span>Import data and dependencies</a></span></li><li><span><a href=\"#Exploratory-Data-Analysis\" data-toc-modified-id=\"Exploratory-Data-Analysis-2\"><span class=\"toc-item-num\">2&nbsp;&nbsp;</span>Exploratory Data Analysis</a></span><ul class=\"toc-item\"><li><span><a href=\"#Histogram\" data-toc-modified-id=\"Histogram-2.1\"><span class=\"toc-item-num\">2.1&nbsp;&nbsp;</span>Histogram</a></span></li><li><span><a href=\"#Correlation-Matrix\" data-toc-modified-id=\"Correlation-Matrix-2.2\"><span class=\"toc-item-num\">2.2&nbsp;&nbsp;</span>Correlation Matrix</a></span></li></ul></li><li><span><a href=\"#Machine-Learning-Modelling\" data-toc-modified-id=\"Machine-Learning-Modelling-3\"><span class=\"toc-item-num\">3&nbsp;&nbsp;</span>Machine Learning Modelling</a></span><ul class=\"toc-item\"><li><span><a href=\"#Data-Preprocessing\" data-toc-modified-id=\"Data-Preprocessing-3.1\"><span class=\"toc-item-num\">3.1&nbsp;&nbsp;</span>Data Preprocessing</a></span></li><li><span><a href=\"#Evaluate-Models\" data-toc-modified-id=\"Evaluate-Models-3.2\"><span class=\"toc-item-num\">3.2&nbsp;&nbsp;</span>Evaluate Models</a></span></li><li><span><a href=\"#Linear-Regression-Base-Model\" data-toc-modified-id=\"Linear-Regression-Base-Model-3.3\"><span class=\"toc-item-num\">3.3&nbsp;&nbsp;</span>Linear Regression Base Model</a></span></li><li><span><a href=\"#Ridge,-Lasso-and-ElasticNet-Regression\" data-toc-modified-id=\"Ridge,-Lasso-and-ElasticNet-Regression-3.4\"><span class=\"toc-item-num\">3.4&nbsp;&nbsp;</span>Ridge, Lasso and ElasticNet Regression</a></span><ul class=\"toc-item\"><li><span><a href=\"#Polynomial-Features\" data-toc-modified-id=\"Polynomial-Features-3.4.1\"><span class=\"toc-item-num\">3.4.1&nbsp;&nbsp;</span>Polynomial Features</a></span></li><li><span><a href=\"#Ridge-Base-Model\" data-toc-modified-id=\"Ridge-Base-Model-3.4.2\"><span class=\"toc-item-num\">3.4.2&nbsp;&nbsp;</span>Ridge Base Model</a></span></li><li><span><a href=\"#Ridge-Grid-Search-Model\" data-toc-modified-id=\"Ridge-Grid-Search-Model-3.4.3\"><span class=\"toc-item-num\">3.4.3&nbsp;&nbsp;</span>Ridge Grid Search Model</a></span></li><li><span><a href=\"#Lasso-Base-Model\" data-toc-modified-id=\"Lasso-Base-Model-3.4.4\"><span class=\"toc-item-num\">3.4.4&nbsp;&nbsp;</span>Lasso Base Model</a></span></li><li><span><a href=\"#Lasso-Grid-Search-Model\" data-toc-modified-id=\"Lasso-Grid-Search-Model-3.4.5\"><span class=\"toc-item-num\">3.4.5&nbsp;&nbsp;</span>Lasso Grid Search Model</a></span></li><li><span><a href=\"#ElasticNet-Base-Model\" data-toc-modified-id=\"ElasticNet-Base-Model-3.4.6\"><span class=\"toc-item-num\">3.4.6&nbsp;&nbsp;</span>ElasticNet Base Model</a></span></li><li><span><a href=\"#ElasticNet-Grid-Search-Model\" data-toc-modified-id=\"ElasticNet-Grid-Search-Model-3.4.7\"><span class=\"toc-item-num\">3.4.7&nbsp;&nbsp;</span>ElasticNet Grid Search Model</a></span></li></ul></li><li><span><a href=\"#SVR\" data-toc-modified-id=\"SVR-3.5\"><span class=\"toc-item-num\">3.5&nbsp;&nbsp;</span>SVR</a></span><ul class=\"toc-item\"><li><span><a href=\"#SVR-Base-model\" data-toc-modified-id=\"SVR-Base-model-3.5.1\"><span class=\"toc-item-num\">3.5.1&nbsp;&nbsp;</span>SVR Base model</a></span></li><li><span><a href=\"#Grid-Search-CV-for-SVR\" data-toc-modified-id=\"Grid-Search-CV-for-SVR-3.5.2\"><span class=\"toc-item-num\">3.5.2&nbsp;&nbsp;</span>Grid Search CV for SVR</a></span></li></ul></li><li><span><a href=\"#Random-Forest\" data-toc-modified-id=\"Random-Forest-3.6\"><span class=\"toc-item-num\">3.6&nbsp;&nbsp;</span>Random Forest</a></span><ul class=\"toc-item\"><li><span><a href=\"#Random-Forest-Base-Model\" data-toc-modified-id=\"Random-Forest-Base-Model-3.6.1\"><span class=\"toc-item-num\">3.6.1&nbsp;&nbsp;</span>Random Forest Base Model</a></span></li><li><span><a href=\"#Random-Forest-Regressor-Grid-Search-Model\" data-toc-modified-id=\"Random-Forest-Regressor-Grid-Search-Model-3.6.2\"><span class=\"toc-item-num\">3.6.2&nbsp;&nbsp;</span>Random Forest Regressor Grid Search Model</a></span></li></ul></li></ul></li></ul></div>"
   ]
  },
  {
   "cell_type": "markdown",
   "metadata": {},
   "source": [
    "## Import data and dependencies"
   ]
  },
  {
   "cell_type": "markdown",
   "metadata": {},
   "source": [
    "[back to top](#Table-of-Contents)"
   ]
  },
  {
   "cell_type": "code",
   "execution_count": 17,
   "metadata": {
    "ExecuteTime": {
     "end_time": "2018-07-30T21:09:04.608867Z",
     "start_time": "2018-07-30T21:09:04.596050Z"
    }
   },
   "outputs": [],
   "source": [
    "# Filter warnings\n",
    "import warnings\n",
    "warnings.filterwarnings(\"ignore\")\n",
    "warnings.simplefilter('ignore')\n",
    "# Access file path\n",
    "import os\n",
    "# retrive data from the url\n",
    "import urllib\n",
    "# read csv file into pandas dataframe\n",
    "import pandas as pd  \n",
    "# perform matrix calculations\n",
    "import numpy as np   \n",
    "# Data visualization\n",
    "import matplotlib.pyplot as plt  \n",
    "%matplotlib inline\n",
    "import seaborn as sns\n",
    "sns.set_style(\"darkgrid\")\n",
    "sns.set(font_scale=1.2)\n",
    "\n",
    "# Machine learning library imports\n",
    "# split data into train and test\n",
    "from sklearn.model_selection import train_test_split \n",
    "# Stratified sampling\n",
    "from sklearn.model_selection import StratifiedShuffleSplit\n",
    "# Normalize the data\n",
    "from sklearn.preprocessing import StandardScaler\n",
    "# Metrics to evaluate cross-validation set\n",
    "from sklearn.model_selection import cross_val_score, cross_val_predict\n",
    "# Metrics to evaluate the root mean square deviation score\n",
    "from sklearn.metrics import mean_squared_error\n",
    "\n",
    "# Regression based models\n",
    "from sklearn.linear_model import LinearRegression\n",
    "from sklearn.preprocessing import PolynomialFeatures\n",
    "from sklearn.linear_model import Ridge, Lasso, ElasticNet\n",
    "from sklearn.ensemble import RandomForestRegressor\n",
    "from sklearn.svm import SVR\n",
    "\n",
    "# Optimize hyperparameters\n",
    "from sklearn.model_selection import GridSearchCV, RandomizedSearchCV"
   ]
  },
  {
   "cell_type": "code",
   "execution_count": 2,
   "metadata": {},
   "outputs": [],
   "source": [
    "# url of the data\n",
    "#url = 'https://archive.ics.uci.edu/ml/machine-learning-databases/00265/CASP.csv'\n",
    "# retrive data from the url and store in the folder name Data with filename as CASP.csv\n",
    "#urllib.request.urlretrieve (url, filename=\"Data/CASP.csv\" )"
   ]
  },
  {
   "cell_type": "code",
   "execution_count": 3,
   "metadata": {
    "ExecuteTime": {
     "end_time": "2018-07-30T21:09:05.697840Z",
     "start_time": "2018-07-30T21:09:05.597620Z"
    }
   },
   "outputs": [],
   "source": [
    "df = pd.read_csv(\"Data/CASP.csv\")"
   ]
  },
  {
   "cell_type": "code",
   "execution_count": 4,
   "metadata": {},
   "outputs": [
    {
     "data": {
      "text/html": [
       "<div>\n",
       "<style scoped>\n",
       "    .dataframe tbody tr th:only-of-type {\n",
       "        vertical-align: middle;\n",
       "    }\n",
       "\n",
       "    .dataframe tbody tr th {\n",
       "        vertical-align: top;\n",
       "    }\n",
       "\n",
       "    .dataframe thead th {\n",
       "        text-align: right;\n",
       "    }\n",
       "</style>\n",
       "<table border=\"1\" class=\"dataframe\">\n",
       "  <thead>\n",
       "    <tr style=\"text-align: right;\">\n",
       "      <th></th>\n",
       "      <th>RMSD</th>\n",
       "      <th>F1</th>\n",
       "      <th>F2</th>\n",
       "      <th>F3</th>\n",
       "      <th>F4</th>\n",
       "      <th>F5</th>\n",
       "      <th>F6</th>\n",
       "      <th>F7</th>\n",
       "      <th>F8</th>\n",
       "      <th>F9</th>\n",
       "    </tr>\n",
       "  </thead>\n",
       "  <tbody>\n",
       "    <tr>\n",
       "      <th>0</th>\n",
       "      <td>17.284</td>\n",
       "      <td>13558.30</td>\n",
       "      <td>4305.35</td>\n",
       "      <td>0.31754</td>\n",
       "      <td>162.1730</td>\n",
       "      <td>1.872791e+06</td>\n",
       "      <td>215.3590</td>\n",
       "      <td>4287.87</td>\n",
       "      <td>102</td>\n",
       "      <td>27.0302</td>\n",
       "    </tr>\n",
       "    <tr>\n",
       "      <th>1</th>\n",
       "      <td>6.021</td>\n",
       "      <td>6191.96</td>\n",
       "      <td>1623.16</td>\n",
       "      <td>0.26213</td>\n",
       "      <td>53.3894</td>\n",
       "      <td>8.034467e+05</td>\n",
       "      <td>87.2024</td>\n",
       "      <td>3328.91</td>\n",
       "      <td>39</td>\n",
       "      <td>38.5468</td>\n",
       "    </tr>\n",
       "    <tr>\n",
       "      <th>2</th>\n",
       "      <td>9.275</td>\n",
       "      <td>7725.98</td>\n",
       "      <td>1726.28</td>\n",
       "      <td>0.22343</td>\n",
       "      <td>67.2887</td>\n",
       "      <td>1.075648e+06</td>\n",
       "      <td>81.7913</td>\n",
       "      <td>2981.04</td>\n",
       "      <td>29</td>\n",
       "      <td>38.8119</td>\n",
       "    </tr>\n",
       "    <tr>\n",
       "      <th>3</th>\n",
       "      <td>15.851</td>\n",
       "      <td>8424.58</td>\n",
       "      <td>2368.25</td>\n",
       "      <td>0.28111</td>\n",
       "      <td>67.8325</td>\n",
       "      <td>1.210472e+06</td>\n",
       "      <td>109.4390</td>\n",
       "      <td>3248.22</td>\n",
       "      <td>70</td>\n",
       "      <td>39.0651</td>\n",
       "    </tr>\n",
       "    <tr>\n",
       "      <th>4</th>\n",
       "      <td>7.962</td>\n",
       "      <td>7460.84</td>\n",
       "      <td>1736.94</td>\n",
       "      <td>0.23280</td>\n",
       "      <td>52.4123</td>\n",
       "      <td>1.021020e+06</td>\n",
       "      <td>94.5234</td>\n",
       "      <td>2814.42</td>\n",
       "      <td>41</td>\n",
       "      <td>39.9147</td>\n",
       "    </tr>\n",
       "  </tbody>\n",
       "</table>\n",
       "</div>"
      ],
      "text/plain": [
       "     RMSD        F1       F2       F3        F4            F5        F6  \\\n",
       "0  17.284  13558.30  4305.35  0.31754  162.1730  1.872791e+06  215.3590   \n",
       "1   6.021   6191.96  1623.16  0.26213   53.3894  8.034467e+05   87.2024   \n",
       "2   9.275   7725.98  1726.28  0.22343   67.2887  1.075648e+06   81.7913   \n",
       "3  15.851   8424.58  2368.25  0.28111   67.8325  1.210472e+06  109.4390   \n",
       "4   7.962   7460.84  1736.94  0.23280   52.4123  1.021020e+06   94.5234   \n",
       "\n",
       "        F7   F8       F9  \n",
       "0  4287.87  102  27.0302  \n",
       "1  3328.91   39  38.5468  \n",
       "2  2981.04   29  38.8119  \n",
       "3  3248.22   70  39.0651  \n",
       "4  2814.42   41  39.9147  "
      ]
     },
     "execution_count": 4,
     "metadata": {},
     "output_type": "execute_result"
    }
   ],
   "source": [
    "df.head(5)"
   ]
  },
  {
   "cell_type": "markdown",
   "metadata": {},
   "source": [
    "## Exploratory Data Analysis"
   ]
  },
  {
   "cell_type": "markdown",
   "metadata": {},
   "source": [
    "[back to top](#Table-of-Contents)"
   ]
  },
  {
   "cell_type": "code",
   "execution_count": 5,
   "metadata": {
    "ExecuteTime": {
     "end_time": "2018-07-30T21:09:06.207985Z",
     "start_time": "2018-07-30T21:09:06.190128Z"
    }
   },
   "outputs": [
    {
     "name": "stdout",
     "output_type": "stream",
     "text": [
      "<class 'pandas.core.frame.DataFrame'>\n",
      "RangeIndex: 45730 entries, 0 to 45729\n",
      "Data columns (total 10 columns):\n",
      "RMSD    45730 non-null float64\n",
      "F1      45730 non-null float64\n",
      "F2      45730 non-null float64\n",
      "F3      45730 non-null float64\n",
      "F4      45730 non-null float64\n",
      "F5      45730 non-null float64\n",
      "F6      45730 non-null float64\n",
      "F7      45730 non-null float64\n",
      "F8      45730 non-null int64\n",
      "F9      45730 non-null float64\n",
      "dtypes: float64(9), int64(1)\n",
      "memory usage: 3.5 MB\n"
     ]
    }
   ],
   "source": [
    "df.info()"
   ]
  },
  {
   "cell_type": "markdown",
   "metadata": {},
   "source": [
    "- <b> The dataset contains no null values.</b>"
   ]
  },
  {
   "cell_type": "code",
   "execution_count": 6,
   "metadata": {
    "ExecuteTime": {
     "end_time": "2018-07-30T21:10:11.553576Z",
     "start_time": "2018-07-30T21:10:11.470527Z"
    },
    "scrolled": true
   },
   "outputs": [
    {
     "data": {
      "text/html": [
       "<div>\n",
       "<style scoped>\n",
       "    .dataframe tbody tr th:only-of-type {\n",
       "        vertical-align: middle;\n",
       "    }\n",
       "\n",
       "    .dataframe tbody tr th {\n",
       "        vertical-align: top;\n",
       "    }\n",
       "\n",
       "    .dataframe thead th {\n",
       "        text-align: right;\n",
       "    }\n",
       "</style>\n",
       "<table border=\"1\" class=\"dataframe\">\n",
       "  <thead>\n",
       "    <tr style=\"text-align: right;\">\n",
       "      <th></th>\n",
       "      <th>RMSD</th>\n",
       "      <th>F1</th>\n",
       "      <th>F2</th>\n",
       "      <th>F3</th>\n",
       "      <th>F4</th>\n",
       "      <th>F5</th>\n",
       "      <th>F6</th>\n",
       "      <th>F7</th>\n",
       "      <th>F8</th>\n",
       "      <th>F9</th>\n",
       "    </tr>\n",
       "  </thead>\n",
       "  <tbody>\n",
       "    <tr>\n",
       "      <th>count</th>\n",
       "      <td>45730.000000</td>\n",
       "      <td>45730.000000</td>\n",
       "      <td>45730.000000</td>\n",
       "      <td>45730.000000</td>\n",
       "      <td>45730.000000</td>\n",
       "      <td>4.573000e+04</td>\n",
       "      <td>45730.000000</td>\n",
       "      <td>45730.000000</td>\n",
       "      <td>45730.000000</td>\n",
       "      <td>45730.000000</td>\n",
       "    </tr>\n",
       "    <tr>\n",
       "      <th>mean</th>\n",
       "      <td>7.748528</td>\n",
       "      <td>9871.596995</td>\n",
       "      <td>3017.367175</td>\n",
       "      <td>0.302392</td>\n",
       "      <td>103.492433</td>\n",
       "      <td>1.368299e+06</td>\n",
       "      <td>145.638061</td>\n",
       "      <td>3989.755990</td>\n",
       "      <td>69.975071</td>\n",
       "      <td>34.523664</td>\n",
       "    </tr>\n",
       "    <tr>\n",
       "      <th>std</th>\n",
       "      <td>6.118312</td>\n",
       "      <td>4058.138034</td>\n",
       "      <td>1464.324663</td>\n",
       "      <td>0.062886</td>\n",
       "      <td>55.424985</td>\n",
       "      <td>5.640367e+05</td>\n",
       "      <td>69.999230</td>\n",
       "      <td>1993.574575</td>\n",
       "      <td>56.493443</td>\n",
       "      <td>5.979755</td>\n",
       "    </tr>\n",
       "    <tr>\n",
       "      <th>min</th>\n",
       "      <td>0.000000</td>\n",
       "      <td>2392.050000</td>\n",
       "      <td>403.500000</td>\n",
       "      <td>0.092500</td>\n",
       "      <td>10.310100</td>\n",
       "      <td>3.194902e+05</td>\n",
       "      <td>31.970400</td>\n",
       "      <td>0.000000</td>\n",
       "      <td>0.000000</td>\n",
       "      <td>15.228000</td>\n",
       "    </tr>\n",
       "    <tr>\n",
       "      <th>25%</th>\n",
       "      <td>2.305000</td>\n",
       "      <td>6936.680000</td>\n",
       "      <td>1979.045000</td>\n",
       "      <td>0.258740</td>\n",
       "      <td>63.563900</td>\n",
       "      <td>9.535912e+05</td>\n",
       "      <td>94.757500</td>\n",
       "      <td>3165.322500</td>\n",
       "      <td>31.000000</td>\n",
       "      <td>30.424725</td>\n",
       "    </tr>\n",
       "    <tr>\n",
       "      <th>50%</th>\n",
       "      <td>5.030000</td>\n",
       "      <td>8898.805000</td>\n",
       "      <td>2668.155000</td>\n",
       "      <td>0.300150</td>\n",
       "      <td>87.740800</td>\n",
       "      <td>1.237219e+06</td>\n",
       "      <td>126.176000</td>\n",
       "      <td>3840.170000</td>\n",
       "      <td>54.000000</td>\n",
       "      <td>35.299300</td>\n",
       "    </tr>\n",
       "    <tr>\n",
       "      <th>75%</th>\n",
       "      <td>13.379000</td>\n",
       "      <td>12126.150000</td>\n",
       "      <td>3786.410000</td>\n",
       "      <td>0.342890</td>\n",
       "      <td>133.646750</td>\n",
       "      <td>1.690920e+06</td>\n",
       "      <td>181.468500</td>\n",
       "      <td>4644.192500</td>\n",
       "      <td>91.000000</td>\n",
       "      <td>38.870800</td>\n",
       "    </tr>\n",
       "    <tr>\n",
       "      <th>max</th>\n",
       "      <td>20.999000</td>\n",
       "      <td>40034.900000</td>\n",
       "      <td>15312.000000</td>\n",
       "      <td>0.577690</td>\n",
       "      <td>369.317000</td>\n",
       "      <td>5.472011e+06</td>\n",
       "      <td>598.408000</td>\n",
       "      <td>105948.170000</td>\n",
       "      <td>350.000000</td>\n",
       "      <td>55.300900</td>\n",
       "    </tr>\n",
       "  </tbody>\n",
       "</table>\n",
       "</div>"
      ],
      "text/plain": [
       "               RMSD            F1            F2            F3            F4  \\\n",
       "count  45730.000000  45730.000000  45730.000000  45730.000000  45730.000000   \n",
       "mean       7.748528   9871.596995   3017.367175      0.302392    103.492433   \n",
       "std        6.118312   4058.138034   1464.324663      0.062886     55.424985   \n",
       "min        0.000000   2392.050000    403.500000      0.092500     10.310100   \n",
       "25%        2.305000   6936.680000   1979.045000      0.258740     63.563900   \n",
       "50%        5.030000   8898.805000   2668.155000      0.300150     87.740800   \n",
       "75%       13.379000  12126.150000   3786.410000      0.342890    133.646750   \n",
       "max       20.999000  40034.900000  15312.000000      0.577690    369.317000   \n",
       "\n",
       "                 F5            F6             F7            F8            F9  \n",
       "count  4.573000e+04  45730.000000   45730.000000  45730.000000  45730.000000  \n",
       "mean   1.368299e+06    145.638061    3989.755990     69.975071     34.523664  \n",
       "std    5.640367e+05     69.999230    1993.574575     56.493443      5.979755  \n",
       "min    3.194902e+05     31.970400       0.000000      0.000000     15.228000  \n",
       "25%    9.535912e+05     94.757500    3165.322500     31.000000     30.424725  \n",
       "50%    1.237219e+06    126.176000    3840.170000     54.000000     35.299300  \n",
       "75%    1.690920e+06    181.468500    4644.192500     91.000000     38.870800  \n",
       "max    5.472011e+06    598.408000  105948.170000    350.000000     55.300900  "
      ]
     },
     "execution_count": 6,
     "metadata": {},
     "output_type": "execute_result"
    }
   ],
   "source": [
    "df.describe()"
   ]
  },
  {
   "cell_type": "markdown",
   "metadata": {},
   "source": [
    "### Histogram"
   ]
  },
  {
   "cell_type": "markdown",
   "metadata": {},
   "source": [
    "[back to top](#Table-of-Contents)"
   ]
  },
  {
   "cell_type": "markdown",
   "metadata": {},
   "source": [
    "- The first idea is to observe the distribution of all the attributes as shown below. The attribute F3 shows somewhat normal distribution unlike others which are either left or right skewed. RMSD values are bimodal with one peak around 2 and another around 15. "
   ]
  },
  {
   "cell_type": "code",
   "execution_count": 7,
   "metadata": {
    "ExecuteTime": {
     "end_time": "2018-07-30T21:12:18.567426Z",
     "start_time": "2018-07-30T21:12:17.518669Z"
    }
   },
   "outputs": [
    {
     "data": {
      "image/png": "[encoded data removed]",
      "text/plain": [
       "<Figure size 1080x720 with 12 Axes>"
      ]
     },
     "metadata": {
      "needs_background": "light"
     },
     "output_type": "display_data"
    }
   ],
   "source": [
    "df.hist(figsize=(15, 10),layout=(3, 4), bins=50);\n",
    "plt.savefig(\"Images/Histogram_of_Data.jpeg\")"
   ]
  },
  {
   "cell_type": "markdown",
   "metadata": {},
   "source": [
    "### Correlation Matrix"
   ]
  },
  {
   "cell_type": "markdown",
   "metadata": {},
   "source": [
    "[back to top](#Table-of-Contents)"
   ]
  },
  {
   "cell_type": "code",
   "execution_count": 8,
   "metadata": {},
   "outputs": [
    {
     "data": {
      "text/html": [
       "<div>\n",
       "<style scoped>\n",
       "    .dataframe tbody tr th:only-of-type {\n",
       "        vertical-align: middle;\n",
       "    }\n",
       "\n",
       "    .dataframe tbody tr th {\n",
       "        vertical-align: top;\n",
       "    }\n",
       "\n",
       "    .dataframe thead th {\n",
       "        text-align: right;\n",
       "    }\n",
       "</style>\n",
       "<table border=\"1\" class=\"dataframe\">\n",
       "  <thead>\n",
       "    <tr style=\"text-align: right;\">\n",
       "      <th></th>\n",
       "      <th>RMSD</th>\n",
       "      <th>F1</th>\n",
       "      <th>F2</th>\n",
       "      <th>F3</th>\n",
       "      <th>F4</th>\n",
       "      <th>F5</th>\n",
       "      <th>F6</th>\n",
       "      <th>F7</th>\n",
       "      <th>F8</th>\n",
       "      <th>F9</th>\n",
       "    </tr>\n",
       "  </thead>\n",
       "  <tbody>\n",
       "    <tr>\n",
       "      <th>RMSD</th>\n",
       "      <td>1.000000</td>\n",
       "      <td>-0.015087</td>\n",
       "      <td>0.156895</td>\n",
       "      <td>0.374309</td>\n",
       "      <td>-0.169771</td>\n",
       "      <td>-0.013982</td>\n",
       "      <td>-0.036135</td>\n",
       "      <td>-0.003339</td>\n",
       "      <td>0.000344</td>\n",
       "      <td>0.062830</td>\n",
       "    </tr>\n",
       "    <tr>\n",
       "      <th>F1</th>\n",
       "      <td>-0.015087</td>\n",
       "      <td>1.000000</td>\n",
       "      <td>0.906606</td>\n",
       "      <td>0.126285</td>\n",
       "      <td>0.931056</td>\n",
       "      <td>0.998185</td>\n",
       "      <td>0.967531</td>\n",
       "      <td>0.554002</td>\n",
       "      <td>0.651251</td>\n",
       "      <td>-0.898240</td>\n",
       "    </tr>\n",
       "    <tr>\n",
       "      <th>F2</th>\n",
       "      <td>0.156895</td>\n",
       "      <td>0.906606</td>\n",
       "      <td>1.000000</td>\n",
       "      <td>0.502562</td>\n",
       "      <td>0.793143</td>\n",
       "      <td>0.902853</td>\n",
       "      <td>0.908354</td>\n",
       "      <td>0.515929</td>\n",
       "      <td>0.584242</td>\n",
       "      <td>-0.786188</td>\n",
       "    </tr>\n",
       "    <tr>\n",
       "      <th>F3</th>\n",
       "      <td>0.374309</td>\n",
       "      <td>0.126285</td>\n",
       "      <td>0.502562</td>\n",
       "      <td>1.000000</td>\n",
       "      <td>0.031230</td>\n",
       "      <td>0.122622</td>\n",
       "      <td>0.200650</td>\n",
       "      <td>0.080064</td>\n",
       "      <td>0.095340</td>\n",
       "      <td>-0.069039</td>\n",
       "    </tr>\n",
       "    <tr>\n",
       "      <th>F4</th>\n",
       "      <td>-0.169771</td>\n",
       "      <td>0.931056</td>\n",
       "      <td>0.793143</td>\n",
       "      <td>0.031230</td>\n",
       "      <td>1.000000</td>\n",
       "      <td>0.925707</td>\n",
       "      <td>0.938108</td>\n",
       "      <td>0.485185</td>\n",
       "      <td>0.676919</td>\n",
       "      <td>-0.891766</td>\n",
       "    </tr>\n",
       "    <tr>\n",
       "      <th>F5</th>\n",
       "      <td>-0.013982</td>\n",
       "      <td>0.998185</td>\n",
       "      <td>0.902853</td>\n",
       "      <td>0.122622</td>\n",
       "      <td>0.925707</td>\n",
       "      <td>1.000000</td>\n",
       "      <td>0.961769</td>\n",
       "      <td>0.553729</td>\n",
       "      <td>0.642961</td>\n",
       "      <td>-0.897765</td>\n",
       "    </tr>\n",
       "    <tr>\n",
       "      <th>F6</th>\n",
       "      <td>-0.036135</td>\n",
       "      <td>0.967531</td>\n",
       "      <td>0.908354</td>\n",
       "      <td>0.200650</td>\n",
       "      <td>0.938108</td>\n",
       "      <td>0.961769</td>\n",
       "      <td>1.000000</td>\n",
       "      <td>0.538198</td>\n",
       "      <td>0.662584</td>\n",
       "      <td>-0.881973</td>\n",
       "    </tr>\n",
       "    <tr>\n",
       "      <th>F7</th>\n",
       "      <td>-0.003339</td>\n",
       "      <td>0.554002</td>\n",
       "      <td>0.515929</td>\n",
       "      <td>0.080064</td>\n",
       "      <td>0.485185</td>\n",
       "      <td>0.553729</td>\n",
       "      <td>0.538198</td>\n",
       "      <td>1.000000</td>\n",
       "      <td>0.347030</td>\n",
       "      <td>-0.521148</td>\n",
       "    </tr>\n",
       "    <tr>\n",
       "      <th>F8</th>\n",
       "      <td>0.000344</td>\n",
       "      <td>0.651251</td>\n",
       "      <td>0.584242</td>\n",
       "      <td>0.095340</td>\n",
       "      <td>0.676919</td>\n",
       "      <td>0.642961</td>\n",
       "      <td>0.662584</td>\n",
       "      <td>0.347030</td>\n",
       "      <td>1.000000</td>\n",
       "      <td>-0.637287</td>\n",
       "    </tr>\n",
       "    <tr>\n",
       "      <th>F9</th>\n",
       "      <td>0.062830</td>\n",
       "      <td>-0.898240</td>\n",
       "      <td>-0.786188</td>\n",
       "      <td>-0.069039</td>\n",
       "      <td>-0.891766</td>\n",
       "      <td>-0.897765</td>\n",
       "      <td>-0.881973</td>\n",
       "      <td>-0.521148</td>\n",
       "      <td>-0.637287</td>\n",
       "      <td>1.000000</td>\n",
       "    </tr>\n",
       "  </tbody>\n",
       "</table>\n",
       "</div>"
      ],
      "text/plain": [
       "          RMSD        F1        F2        F3        F4        F5        F6  \\\n",
       "RMSD  1.000000 -0.015087  0.156895  0.374309 -0.169771 -0.013982 -0.036135   \n",
       "F1   -0.015087  1.000000  0.906606  0.126285  0.931056  0.998185  0.967531   \n",
       "F2    0.156895  0.906606  1.000000  0.502562  0.793143  0.902853  0.908354   \n",
       "F3    0.374309  0.126285  0.502562  1.000000  0.031230  0.122622  0.200650   \n",
       "F4   -0.169771  0.931056  0.793143  0.031230  1.000000  0.925707  0.938108   \n",
       "F5   -0.013982  0.998185  0.902853  0.122622  0.925707  1.000000  0.961769   \n",
       "F6   -0.036135  0.967531  0.908354  0.200650  0.938108  0.961769  1.000000   \n",
       "F7   -0.003339  0.554002  0.515929  0.080064  0.485185  0.553729  0.538198   \n",
       "F8    0.000344  0.651251  0.584242  0.095340  0.676919  0.642961  0.662584   \n",
       "F9    0.062830 -0.898240 -0.786188 -0.069039 -0.891766 -0.897765 -0.881973   \n",
       "\n",
       "            F7        F8        F9  \n",
       "RMSD -0.003339  0.000344  0.062830  \n",
       "F1    0.554002  0.651251 -0.898240  \n",
       "F2    0.515929  0.584242 -0.786188  \n",
       "F3    0.080064  0.095340 -0.069039  \n",
       "F4    0.485185  0.676919 -0.891766  \n",
       "F5    0.553729  0.642961 -0.897765  \n",
       "F6    0.538198  0.662584 -0.881973  \n",
       "F7    1.000000  0.347030 -0.521148  \n",
       "F8    0.347030  1.000000 -0.637287  \n",
       "F9   -0.521148 -0.637287  1.000000  "
      ]
     },
     "execution_count": 8,
     "metadata": {},
     "output_type": "execute_result"
    }
   ],
   "source": [
    "df.corr()"
   ]
  },
  {
   "cell_type": "markdown",
   "metadata": {},
   "source": [
    "- The second idea is to observe the correlation between attributes and hence the below visualization shows that the feature attributes (independent variables) are have high correlation among themselves and low correlation with the target attribute (dependent variable – \"RMSD\"). "
   ]
  },
  {
   "cell_type": "code",
   "execution_count": 9,
   "metadata": {},
   "outputs": [
    {
     "data": {
      "image/png": "[encoded data removed]",
      "text/plain": [
       "<Figure size 1008x432 with 2 Axes>"
      ]
     },
     "metadata": {
      "needs_background": "light"
     },
     "output_type": "display_data"
    }
   ],
   "source": [
    "plt.figure(figsize = (14,6))\n",
    "sns.heatmap(df.corr(), annot=True, fmt=\".2f\");\n",
    "plt.savefig(\"Images/Correlation_matrix_of_Data.jpeg\")"
   ]
  },
  {
   "cell_type": "markdown",
   "metadata": {},
   "source": [
    "- F1, F2 shows high positive correlation with each other and with F4, F5 and F6. \n",
    "- Whereas, F9 is negatively correlated with all of the above. Only F3 shows a somewhat correlation with RMSD values. "
   ]
  },
  {
   "cell_type": "code",
   "execution_count": 10,
   "metadata": {},
   "outputs": [
    {
     "data": {
      "image/png": "[encoded data removed]",
      "text/plain": [
       "<Figure size 1008x432 with 2 Axes>"
      ]
     },
     "metadata": {
      "needs_background": "light"
     },
     "output_type": "display_data"
    }
   ],
   "source": [
    "attributes = [\"RMSD\", \"F1\", \"F2\", \"F4\", \"F5\", \"F6\", \"F9\"]\n",
    "plt.figure(figsize = (14,6))\n",
    "sns.heatmap(df[attributes].corr(), annot=True, fmt=\".2f\");\n",
    "plt.savefig(\"Images/Correlation_matrix_of_few_attributes.jpeg\")"
   ]
  },
  {
   "cell_type": "markdown",
   "metadata": {},
   "source": [
    "- Since, the attributes are showing multicollinearity it will be interesting to see the performace of regularized regression models such as Ridge, Lasso and ElasticNet. \n",
    "\n",
    "<b> Let's dive into ML modelling </b>"
   ]
  },
  {
   "cell_type": "markdown",
   "metadata": {},
   "source": [
    "## Machine Learning Modelling"
   ]
  },
  {
   "cell_type": "markdown",
   "metadata": {},
   "source": [
    "### Data Preprocessing"
   ]
  },
  {
   "cell_type": "markdown",
   "metadata": {},
   "source": [
    "[back to top](#Table-of-Contents)"
   ]
  },
  {
   "cell_type": "code",
   "execution_count": 11,
   "metadata": {},
   "outputs": [
    {
     "data": {
      "image/png": "[encoded data removed]",
      "text/plain": [
       "<Figure size 432x288 with 1 Axes>"
      ]
     },
     "metadata": {
      "needs_background": "light"
     },
     "output_type": "display_data"
    }
   ],
   "source": [
    "df.RMSD.hist(bins = 44)\n",
    "plt.title(\"Histogram of RMSD\")\n",
    "plt.savefig(\"RMSD_bimodal\")\n",
    "plt.show()"
   ]
  },
  {
   "cell_type": "markdown",
   "metadata": {},
   "source": [
    "- The values of RMSD have 0.3float and the above histogram shows the distribution is bimodal and skewed. Therefore it will be good idea to do stratified sampling to avoid under and over fitting issues. To carry out the stratified sampling, a new attribute named RMSD_cat is created. The RMSD values are binned into 5 classes and stored into the RMSD_cat attribute with labels as [1, 2, 3, 4, 5]."
   ]
  },
  {
   "cell_type": "code",
   "execution_count": 12,
   "metadata": {},
   "outputs": [
    {
     "data": {
      "text/html": [
       "<div>\n",
       "<style scoped>\n",
       "    .dataframe tbody tr th:only-of-type {\n",
       "        vertical-align: middle;\n",
       "    }\n",
       "\n",
       "    .dataframe tbody tr th {\n",
       "        vertical-align: top;\n",
       "    }\n",
       "\n",
       "    .dataframe thead th {\n",
       "        text-align: right;\n",
       "    }\n",
       "</style>\n",
       "<table border=\"1\" class=\"dataframe\">\n",
       "  <thead>\n",
       "    <tr style=\"text-align: right;\">\n",
       "      <th></th>\n",
       "      <th>RMSD</th>\n",
       "      <th>F1</th>\n",
       "      <th>F2</th>\n",
       "      <th>F3</th>\n",
       "      <th>F4</th>\n",
       "      <th>F5</th>\n",
       "      <th>F6</th>\n",
       "      <th>F7</th>\n",
       "      <th>F8</th>\n",
       "      <th>F9</th>\n",
       "      <th>RMSD_cat</th>\n",
       "    </tr>\n",
       "  </thead>\n",
       "  <tbody>\n",
       "    <tr>\n",
       "      <th>0</th>\n",
       "      <td>17.284</td>\n",
       "      <td>13558.30</td>\n",
       "      <td>4305.35</td>\n",
       "      <td>0.31754</td>\n",
       "      <td>162.1730</td>\n",
       "      <td>1.872791e+06</td>\n",
       "      <td>215.3590</td>\n",
       "      <td>4287.87</td>\n",
       "      <td>102</td>\n",
       "      <td>27.0302</td>\n",
       "      <td>5</td>\n",
       "    </tr>\n",
       "    <tr>\n",
       "      <th>1</th>\n",
       "      <td>6.021</td>\n",
       "      <td>6191.96</td>\n",
       "      <td>1623.16</td>\n",
       "      <td>0.26213</td>\n",
       "      <td>53.3894</td>\n",
       "      <td>8.034467e+05</td>\n",
       "      <td>87.2024</td>\n",
       "      <td>3328.91</td>\n",
       "      <td>39</td>\n",
       "      <td>38.5468</td>\n",
       "      <td>2</td>\n",
       "    </tr>\n",
       "    <tr>\n",
       "      <th>2</th>\n",
       "      <td>9.275</td>\n",
       "      <td>7725.98</td>\n",
       "      <td>1726.28</td>\n",
       "      <td>0.22343</td>\n",
       "      <td>67.2887</td>\n",
       "      <td>1.075648e+06</td>\n",
       "      <td>81.7913</td>\n",
       "      <td>2981.04</td>\n",
       "      <td>29</td>\n",
       "      <td>38.8119</td>\n",
       "      <td>3</td>\n",
       "    </tr>\n",
       "    <tr>\n",
       "      <th>3</th>\n",
       "      <td>15.851</td>\n",
       "      <td>8424.58</td>\n",
       "      <td>2368.25</td>\n",
       "      <td>0.28111</td>\n",
       "      <td>67.8325</td>\n",
       "      <td>1.210472e+06</td>\n",
       "      <td>109.4390</td>\n",
       "      <td>3248.22</td>\n",
       "      <td>70</td>\n",
       "      <td>39.0651</td>\n",
       "      <td>4</td>\n",
       "    </tr>\n",
       "    <tr>\n",
       "      <th>4</th>\n",
       "      <td>7.962</td>\n",
       "      <td>7460.84</td>\n",
       "      <td>1736.94</td>\n",
       "      <td>0.23280</td>\n",
       "      <td>52.4123</td>\n",
       "      <td>1.021020e+06</td>\n",
       "      <td>94.5234</td>\n",
       "      <td>2814.42</td>\n",
       "      <td>41</td>\n",
       "      <td>39.9147</td>\n",
       "      <td>2</td>\n",
       "    </tr>\n",
       "  </tbody>\n",
       "</table>\n",
       "</div>"
      ],
      "text/plain": [
       "     RMSD        F1       F2       F3        F4            F5        F6  \\\n",
       "0  17.284  13558.30  4305.35  0.31754  162.1730  1.872791e+06  215.3590   \n",
       "1   6.021   6191.96  1623.16  0.26213   53.3894  8.034467e+05   87.2024   \n",
       "2   9.275   7725.98  1726.28  0.22343   67.2887  1.075648e+06   81.7913   \n",
       "3  15.851   8424.58  2368.25  0.28111   67.8325  1.210472e+06  109.4390   \n",
       "4   7.962   7460.84  1736.94  0.23280   52.4123  1.021020e+06   94.5234   \n",
       "\n",
       "        F7   F8       F9 RMSD_cat  \n",
       "0  4287.87  102  27.0302        5  \n",
       "1  3328.91   39  38.5468        2  \n",
       "2  2981.04   29  38.8119        3  \n",
       "3  3248.22   70  39.0651        4  \n",
       "4  2814.42   41  39.9147        2  "
      ]
     },
     "execution_count": 12,
     "metadata": {},
     "output_type": "execute_result"
    }
   ],
   "source": [
    "labels = [1,2,3,4,5]\n",
    "df['RMSD_cat'] = pd.cut(df['RMSD'], 5, labels=labels)\n",
    "df.head()"
   ]
  },
  {
   "cell_type": "code",
   "execution_count": 13,
   "metadata": {},
   "outputs": [
    {
     "data": {
      "image/png": "[encoded data removed]",
      "text/plain": [
       "<Figure size 432x288 with 1 Axes>"
      ]
     },
     "metadata": {
      "needs_background": "light"
     },
     "output_type": "display_data"
    }
   ],
   "source": [
    "df.RMSD_cat.hist()\n",
    "plt.show()"
   ]
  },
  {
   "cell_type": "markdown",
   "metadata": {},
   "source": [
    "- Further, the data is split into train and test set in ratio of 80/20 with random state value of 42 using the stratified sampling based on the RMSD_cat attribute. \n",
    "\n",
    "- The RMSD_cat attributed is then dropped and using the Scikit learn StandardScalar class, the values of train and test set are scaled on the same scale.\n",
    "\n",
    "- The metrics used for the prediction is the root mean square error values. \n",
    "\n",
    "- The next step is to build regression models like Linear regression, Polynomial regression, Ridge regression, Lasso regression and ElasticNet regression. "
   ]
  },
  {
   "cell_type": "code",
   "execution_count": 14,
   "metadata": {},
   "outputs": [
    {
     "name": "stdout",
     "output_type": "stream",
     "text": [
      "Shape of X_train: (36584, 9)\n",
      "Shape of X_test: (9146, 9)\n"
     ]
    }
   ],
   "source": [
    "# Create the instance from object\n",
    "split = StratifiedShuffleSplit(n_splits=1, test_size=0.2, random_state=42)\n",
    "\n",
    "# Create Train - Test Set\n",
    "for train_index, test_index in split.split(df, df[\"RMSD_cat\"]):\n",
    "    train_set = df.loc[train_index]\n",
    "    test_set = df.loc[test_index]\n",
    "\n",
    "# Removing the RMSD_cat to give the original data\n",
    "for set in (train_set, test_set):\n",
    "    set.drop([\"RMSD_cat\"], axis=1, inplace=True)\n",
    "    \n",
    "# Creating new copies of Stratified Train and Test data\n",
    "y_train = train_set[\"RMSD\"].copy()\n",
    "X_train = train_set.drop(\"RMSD\", axis=1)\n",
    "\n",
    "y_test = test_set[\"RMSD\"].copy()\n",
    "X_test = test_set.drop(\"RMSD\", axis=1)\n",
    "print(\"Shape of X_train:\", X_train.shape)\n",
    "print(\"Shape of X_test:\", X_test.shape)"
   ]
  },
  {
   "cell_type": "code",
   "execution_count": 18,
   "metadata": {},
   "outputs": [],
   "source": [
    "## Standard Scalar\n",
    "scalar = StandardScaler()\n",
    "X_train = scalar.fit_transform(X_train)\n",
    "X_test = scalar.transform(X_test)"
   ]
  },
  {
   "cell_type": "markdown",
   "metadata": {},
   "source": [
    "### Evaluate Models"
   ]
  },
  {
   "cell_type": "markdown",
   "metadata": {},
   "source": [
    "[back to top](#Table-of-Contents)"
   ]
  },
  {
   "cell_type": "code",
   "execution_count": 19,
   "metadata": {},
   "outputs": [],
   "source": [
    "def evaluate(model, train_features, train_labels, test_features, test_labels):\n",
    "    \n",
    "    train_pred = model.predict(train_features)\n",
    "    test_pred = model.predict(test_features)\n",
    "    \n",
    "    train_error = mean_squared_error(train_labels, train_pred)\n",
    "    test_error = mean_squared_error(test_labels, test_pred)\n",
    "    \n",
    "    train_rmse = np.round(np.sqrt(train_error),2)\n",
    "    test_rmse = np.round(np.sqrt(test_error),2)\n",
    "      \n",
    "    print('Train Set Error: %0.2f' % train_rmse)\n",
    "    print('Test Set Error: %0.2f' % test_rmse)\n",
    "\n",
    "def display_scores(scores):\n",
    "    print(\"Scores:\", scores)\n",
    "    print(\"Mean:\", scores.mean())\n",
    "    print(\"Standard deviation:\", scores.std())"
   ]
  },
  {
   "cell_type": "markdown",
   "metadata": {},
   "source": [
    "### Linear Regression Base Model"
   ]
  },
  {
   "cell_type": "markdown",
   "metadata": {},
   "source": [
    "[back to top](#Table-of-Contents)"
   ]
  },
  {
   "cell_type": "code",
   "execution_count": 20,
   "metadata": {},
   "outputs": [
    {
     "name": "stdout",
     "output_type": "stream",
     "text": [
      "Train Set Error: 5.18\n",
      "Test Set Error: 5.19\n"
     ]
    }
   ],
   "source": [
    "lm_base = LinearRegression()\n",
    "lm_base.fit(X_train, y_train)\n",
    "\n",
    "# Evaluate\n",
    "lm_base_evaluate = evaluate(lm_base, X_train, y_train, \n",
    "                            X_test, y_test)"
   ]
  },
  {
   "cell_type": "markdown",
   "metadata": {},
   "source": [
    "### Ridge, Lasso and ElasticNet Regression"
   ]
  },
  {
   "cell_type": "markdown",
   "metadata": {},
   "source": [
    "#### Polynomial Features"
   ]
  },
  {
   "cell_type": "markdown",
   "metadata": {},
   "source": [
    "[back to top](#Table-of-Contents)"
   ]
  },
  {
   "cell_type": "code",
   "execution_count": 21,
   "metadata": {},
   "outputs": [],
   "source": [
    "poly = PolynomialFeatures(3)\n",
    "poly.fit(X_train)\n",
    "X_train_poly = poly.fit_transform(X_train)\n",
    "X_test_poly = poly.fit_transform(X_test)\n",
    "\n",
    "scaler_poly = StandardScaler()\n",
    "X_train_poly = scaler_poly.fit_transform(X_train_poly)\n",
    "X_test_poly = scaler_poly.transform(X_test_poly)"
   ]
  },
  {
   "cell_type": "code",
   "execution_count": 22,
   "metadata": {},
   "outputs": [
    {
     "name": "stdout",
     "output_type": "stream",
     "text": [
      "Train Set Error: 4.61\n",
      "Test Set Error: 4.78\n"
     ]
    }
   ],
   "source": [
    "poly_base = LinearRegression()\n",
    "poly_base.fit(X_train_poly, y_train)\n",
    "\n",
    "# Evaluate\n",
    "poly_base_evaluate = evaluate(poly_base, X_train_poly, y_train, \n",
    "                              X_test_poly, y_test)"
   ]
  },
  {
   "cell_type": "markdown",
   "metadata": {},
   "source": [
    "#### Ridge Base Model"
   ]
  },
  {
   "cell_type": "markdown",
   "metadata": {},
   "source": [
    "[back to top](#Table-of-Contents)"
   ]
  },
  {
   "cell_type": "code",
   "execution_count": 23,
   "metadata": {},
   "outputs": [
    {
     "name": "stdout",
     "output_type": "stream",
     "text": [
      "Train Set Error: 4.65\n",
      "Test Set Error: 4.86\n"
     ]
    }
   ],
   "source": [
    "ridge_base = Ridge(random_state=42)\n",
    "ridge_base.fit(X_train_poly, y_train)\n",
    "\n",
    "# Evaluate\n",
    "ridge_base_evaluate = evaluate(ridge_base, X_train_poly, y_train, \n",
    "                              X_test_poly, y_test)"
   ]
  },
  {
   "cell_type": "markdown",
   "metadata": {},
   "source": [
    "#### Ridge Grid Search Model"
   ]
  },
  {
   "cell_type": "markdown",
   "metadata": {},
   "source": [
    "[back to top](#Table-of-Contents)"
   ]
  },
  {
   "cell_type": "code",
   "execution_count": 24,
   "metadata": {
    "scrolled": false
   },
   "outputs": [
    {
     "name": "stdout",
     "output_type": "stream",
     "text": [
      "{'alpha': 0.0008, 'max_iter': 500, 'solver': 'sag'}\n",
      "Ridge(alpha=0.0008, copy_X=True, fit_intercept=True, max_iter=500,\n",
      "   normalize=False, random_state=42, solver='sag', tol=0.001)\n",
      "Train Set Error: 4.91\n",
      "Test Set Error: 4.91\n"
     ]
    }
   ],
   "source": [
    "param_grid = {'alpha': [0.0008], \n",
    "              'solver' : ['sag'], \n",
    "              'max_iter' : [500]}\n",
    "rr_grid_search = GridSearchCV(Ridge(random_state=42), param_grid, cv=3, \n",
    "                              scoring='neg_mean_squared_error')\n",
    "rr_grid_search.fit(X_train_poly, y_train)\n",
    "\n",
    "print(rr_grid_search.best_params_)\n",
    "rr_best_grid = rr_grid_search.best_estimator_\n",
    "print(rr_best_grid)\n",
    "\n",
    "# Evaluate\n",
    "rr_best_grid_evaluate = evaluate(rr_best_grid, X_train_poly, y_train, \n",
    "                                 X_test_poly, y_test)"
   ]
  },
  {
   "cell_type": "markdown",
   "metadata": {},
   "source": [
    "<b> Ridge Grid Search with poly features: </b>\n",
    "- param_grid={'alpha': [0.0008, 0.001, 0.002], 'solver': ['sag'], 'max_iter': [500, 1000]}\n",
    "\n",
    "<b> Ridge final: </b>\n",
    "- param_grid={'alpha': [0.0008], 'solver': ['sag'], 'max_iter': [500]}"
   ]
  },
  {
   "cell_type": "markdown",
   "metadata": {},
   "source": [
    "#### Lasso Base Model"
   ]
  },
  {
   "cell_type": "markdown",
   "metadata": {},
   "source": [
    "[back to top](#Table-of-Contents)"
   ]
  },
  {
   "cell_type": "code",
   "execution_count": 29,
   "metadata": {},
   "outputs": [
    {
     "name": "stdout",
     "output_type": "stream",
     "text": [
      "Train Set Error: 5.75\n",
      "Test Set Error: 5.74\n"
     ]
    }
   ],
   "source": [
    "lasso_base = Lasso(random_state=42)\n",
    "lasso_base.fit(X_train_poly, y_train)\n",
    "\n",
    "# Evaluate\n",
    "lasso_base_evaluate = evaluate(lasso_base, X_train_poly, y_train, \n",
    "                                    X_test_poly, y_test)"
   ]
  },
  {
   "cell_type": "markdown",
   "metadata": {},
   "source": [
    "#### Lasso Grid Search Model"
   ]
  },
  {
   "cell_type": "markdown",
   "metadata": {},
   "source": [
    "[back to top](#Table-of-Contents)"
   ]
  },
  {
   "cell_type": "code",
   "execution_count": 26,
   "metadata": {
    "scrolled": false
   },
   "outputs": [
    {
     "name": "stdout",
     "output_type": "stream",
     "text": [
      "{'alpha': 0.005, 'max_iter': 10000}\n",
      "Lasso(alpha=0.005, copy_X=True, fit_intercept=True, max_iter=10000,\n",
      "   normalize=False, positive=False, precompute=False, random_state=42,\n",
      "   selection='cyclic', tol=0.0001, warm_start=False)\n",
      "Train Set Error: 4.81\n",
      "Test Set Error: 4.94\n"
     ]
    }
   ],
   "source": [
    "param_grid = {'alpha': [0.005],\n",
    "              'max_iter' : [10000]}\n",
    "lasso_grid_search = GridSearchCV(Lasso(random_state=42), param_grid, cv=3, \n",
    "                                 scoring='neg_mean_squared_error')\n",
    "lasso_grid_search.fit(X_train_poly, y_train)\n",
    "\n",
    "print(lasso_grid_search.best_params_)\n",
    "lasso_best_grid = lasso_grid_search.best_estimator_\n",
    "print(lasso_best_grid)\n",
    "\n",
    "lasso_best_grid_evaluate = evaluate(lasso_best_grid, X_train_poly, y_train, \n",
    "                                    X_test_poly, y_test)"
   ]
  },
  {
   "cell_type": "markdown",
   "metadata": {},
   "source": [
    "<b> Lasso Grid Search with poly features: </b>\n",
    "- param_grid={'alpha': [0.002, 0.005, 0.007], 'max_iter': [10000, 20000]}\n",
    "\n",
    "<b> Lasso final: </b>\n",
    "- param_grid={'alpha': [0.005], 'max_iter': [10000]}"
   ]
  },
  {
   "cell_type": "markdown",
   "metadata": {},
   "source": [
    "#### ElasticNet Base Model"
   ]
  },
  {
   "cell_type": "markdown",
   "metadata": {},
   "source": [
    "[back to top](#Table-of-Contents)"
   ]
  },
  {
   "cell_type": "code",
   "execution_count": 27,
   "metadata": {},
   "outputs": [
    {
     "name": "stdout",
     "output_type": "stream",
     "text": [
      "Train Set Error: 5.66\n",
      "Test Set Error: 5.64\n"
     ]
    }
   ],
   "source": [
    "elasticNet_base = ElasticNet(random_state=42)\n",
    "elasticNet_base.fit(X_train_poly, y_train)\n",
    "\n",
    "# Evaluate\n",
    "elasticNet_base_evaluate = evaluate(elasticNet_base, X_train_poly, y_train, \n",
    "                                    X_test_poly, y_test)"
   ]
  },
  {
   "cell_type": "markdown",
   "metadata": {},
   "source": [
    "#### ElasticNet Grid Search Model"
   ]
  },
  {
   "cell_type": "markdown",
   "metadata": {},
   "source": [
    "[back to top](#Table-of-Contents)"
   ]
  },
  {
   "cell_type": "code",
   "execution_count": 30,
   "metadata": {
    "scrolled": false
   },
   "outputs": [
    {
     "name": "stdout",
     "output_type": "stream",
     "text": [
      "{'alpha': 0.005, 'l1_ratio': 1.0, 'max_iter': 10000}\n",
      "ElasticNet(alpha=0.005, copy_X=True, fit_intercept=True, l1_ratio=1.0,\n",
      "      max_iter=10000, normalize=False, positive=False, precompute=False,\n",
      "      random_state=None, selection='cyclic', tol=0.0001, warm_start=False)\n",
      "Train Set Error: 4.81\n",
      "Test Set Error: 4.94\n"
     ]
    }
   ],
   "source": [
    "param_grid = {'alpha': [0.005], \n",
    "              'l1_ratio': [1.0], \n",
    "              'max_iter': [10000]}\n",
    "elastic_net_grid_search = GridSearchCV(ElasticNet(), param_grid, cv=3, \n",
    "                                  scoring='neg_mean_squared_error')\n",
    "elastic_net_grid_search.fit(X_train_poly, y_train)\n",
    "\n",
    "print(elastic_net_grid_search.best_params_)\n",
    "elastic_net_best_grid = elastic_net_grid_search.best_estimator_\n",
    "print(elastic_net_best_grid)\n",
    "\n",
    "elastic_net_best_grid_evaluate = evaluate(elastic_net_best_grid, X_train_poly, y_train, \n",
    "                                        X_test_poly, y_test)"
   ]
  },
  {
   "cell_type": "markdown",
   "metadata": {},
   "source": [
    "<b> ElasticNet Grid Search with poly features: </b>\n",
    "- param_grid=\n",
    "             {'alpha': [0.0008, 0.001, 0.002, 0.002, 0.005, 0.007], \n",
    "              'l1_ratio': [0.0, 0.5, 1.0], 'max_iter': [5000, 10000, 20000]}\n",
    "\n",
    "<b> ElasticNet final: </b>\n",
    "-  param_grid={'alpha': [0.005], 'l1_ratio': [1.0], 'max_iter': [10000]}"
   ]
  },
  {
   "cell_type": "markdown",
   "metadata": {},
   "source": [
    "### SVR"
   ]
  },
  {
   "cell_type": "markdown",
   "metadata": {},
   "source": [
    "#### SVR Base model"
   ]
  },
  {
   "cell_type": "markdown",
   "metadata": {},
   "source": [
    "[back to top](#Table-of-Contents)"
   ]
  },
  {
   "cell_type": "code",
   "execution_count": 31,
   "metadata": {},
   "outputs": [
    {
     "name": "stdout",
     "output_type": "stream",
     "text": [
      "Train Set Error: 4.87\n",
      "Test Set Error: 4.87\n"
     ]
    }
   ],
   "source": [
    "from sklearn.svm import SVR\n",
    "\n",
    "svr_base_model = SVR()\n",
    "svr_base_model.fit(X_train, y_train)\n",
    "\n",
    "# Evalulate\n",
    "svr_base_model_evaluate = evaluate(svr_base_model, X_train, y_train, \n",
    "                            X_test, y_test)"
   ]
  },
  {
   "cell_type": "code",
   "execution_count": 32,
   "metadata": {},
   "outputs": [
    {
     "data": {
      "text/plain": [
       "<bound method BaseEstimator.get_params of SVR(C=1.0, cache_size=200, coef0=0.0, degree=3, epsilon=0.1,\n",
       "  gamma='auto_deprecated', kernel='rbf', max_iter=-1, shrinking=True,\n",
       "  tol=0.001, verbose=False)>"
      ]
     },
     "execution_count": 32,
     "metadata": {},
     "output_type": "execute_result"
    }
   ],
   "source": [
    "svr_base_model.get_params"
   ]
  },
  {
   "cell_type": "markdown",
   "metadata": {},
   "source": [
    "#### Grid Search CV for SVR"
   ]
  },
  {
   "cell_type": "markdown",
   "metadata": {},
   "source": [
    "[back to top](#Table-of-Contents)"
   ]
  },
  {
   "cell_type": "markdown",
   "metadata": {},
   "source": [
    "| Trial | Parameters | Best_Params | Train_rmse | Test_rmse\n",
    "| --- | --- | --- | --- | --- |\n",
    "| 1 | {'C': [0.0001, 0.001, 0.01, 0.1, 1.0, 10.0, 100.0, 1000.0], 'gamma': [0.0001, 0.001, 0.01, 0.1, 1.0, 10.0, 100.0, 1000.0]} | {'C': 10.0, 'gamma': 10.0} | 1.63 | 4.08\n",
    "| 2 | [{'kernel': ['linear'], 'C': [1.0, 5.0, 10.0, 20.0]}, {'kernel': ['rbf'], 'C': [1.0, 5.0, 10.0, 20.0], 'gamma': [1.0, 10.0, 20.0]}] | {'C': 10.0, 'gamma': 10.0, 'kernel': 'rbf'} | 1.63 | 4.08\n",
    "| 3 | {'C': [10.0], 'gamma': [10.0]} | {'C': 10.0, 'gamma': 10.0} | 1.66 | 3.69\n",
    "| 4 | {'C': [10.0], 'gamma': [10.0], 'epsilon': [0.1, 0.5]} | {'C': 10.0, 'epsilon': 0.1, 'gamma': 10.0} | 1.66 | 3.69"
   ]
  },
  {
   "cell_type": "code",
   "execution_count": 33,
   "metadata": {},
   "outputs": [
    {
     "name": "stdout",
     "output_type": "stream",
     "text": [
      "Fitting 3 folds for each of 3 candidates, totalling 9 fits\n",
      "[CV] C=10.0, epsilon=0.001, gamma=10.0 ...............................\n"
     ]
    },
    {
     "name": "stderr",
     "output_type": "stream",
     "text": [
      "[Parallel(n_jobs=1)]: Using backend SequentialBackend with 1 concurrent workers.\n"
     ]
    },
    {
     "name": "stdout",
     "output_type": "stream",
     "text": [
      "[CV] ................ C=10.0, epsilon=0.001, gamma=10.0, total= 5.1min\n",
      "[CV] C=10.0, epsilon=0.001, gamma=10.0 ...............................\n"
     ]
    },
    {
     "name": "stderr",
     "output_type": "stream",
     "text": [
      "[Parallel(n_jobs=1)]: Done   1 out of   1 | elapsed:  5.3min remaining:    0.0s\n"
     ]
    },
    {
     "name": "stdout",
     "output_type": "stream",
     "text": [
      "[CV] ................ C=10.0, epsilon=0.001, gamma=10.0, total= 4.7min\n",
      "[CV] C=10.0, epsilon=0.001, gamma=10.0 ...............................\n",
      "[CV] ................ C=10.0, epsilon=0.001, gamma=10.0, total= 4.8min\n",
      "[CV] C=10.0, epsilon=0.01, gamma=10.0 ................................\n",
      "[CV] ................. C=10.0, epsilon=0.01, gamma=10.0, total= 4.7min\n",
      "[CV] C=10.0, epsilon=0.01, gamma=10.0 ................................\n",
      "[CV] ................. C=10.0, epsilon=0.01, gamma=10.0, total= 4.2min\n",
      "[CV] C=10.0, epsilon=0.01, gamma=10.0 ................................\n",
      "[CV] ................. C=10.0, epsilon=0.01, gamma=10.0, total= 4.2min\n",
      "[CV] C=10.0, epsilon=0.05, gamma=10.0 ................................\n",
      "[CV] ................. C=10.0, epsilon=0.05, gamma=10.0, total= 4.0min\n",
      "[CV] C=10.0, epsilon=0.05, gamma=10.0 ................................\n",
      "[CV] ................. C=10.0, epsilon=0.05, gamma=10.0, total= 4.0min\n",
      "[CV] C=10.0, epsilon=0.05, gamma=10.0 ................................\n",
      "[CV] ................. C=10.0, epsilon=0.05, gamma=10.0, total= 3.9min\n"
     ]
    },
    {
     "name": "stderr",
     "output_type": "stream",
     "text": [
      "[Parallel(n_jobs=1)]: Done   9 out of   9 | elapsed: 41.5min finished\n"
     ]
    },
    {
     "data": {
      "text/plain": [
       "GridSearchCV(cv=3, error_score='raise-deprecating',\n",
       "       estimator=SVR(C=1.0, cache_size=200, coef0=0.0, degree=3, epsilon=0.1,\n",
       "  gamma='auto_deprecated', kernel='rbf', max_iter=-1, shrinking=True,\n",
       "  tol=0.001, verbose=False),\n",
       "       fit_params=None, iid='warn', n_jobs=None,\n",
       "       param_grid={'C': [10.0], 'gamma': [10.0], 'epsilon': [0.001, 0.01, 0.05]},\n",
       "       pre_dispatch='2*n_jobs', refit=True, return_train_score='warn',\n",
       "       scoring='neg_mean_squared_error', verbose=2)"
      ]
     },
     "execution_count": 33,
     "metadata": {},
     "output_type": "execute_result"
    }
   ],
   "source": [
    "param_grid = {'C': [10.0],\n",
    "              'gamma': [10.0], \n",
    "              'epsilon' : [0.001, 0.01, 0.05]}\n",
    "\n",
    "svr_grid = GridSearchCV(SVR(kernel='rbf'), param_grid, cv=3,\n",
    "                        scoring='neg_mean_squared_error', verbose=2)\n",
    "svr_grid.fit(X_train, y_train)"
   ]
  },
  {
   "cell_type": "code",
   "execution_count": 34,
   "metadata": {},
   "outputs": [
    {
     "name": "stdout",
     "output_type": "stream",
     "text": [
      "{'C': 10.0, 'epsilon': 0.05, 'gamma': 10.0}\n",
      "SVR(C=10.0, cache_size=200, coef0=0.0, degree=3, epsilon=0.05, gamma=10.0,\n",
      "  kernel='rbf', max_iter=-1, shrinking=True, tol=0.001, verbose=False)\n",
      "Train Set Error: 1.67\n",
      "Test Set Error: 3.69\n"
     ]
    }
   ],
   "source": [
    "print(svr_grid.best_params_)\n",
    "svr_best_grid = svr_grid.best_estimator_\n",
    "print(svr_best_grid)\n",
    "\n",
    "svr_best_grid_evaluate = evaluate(svr_best_grid, X_train, y_train, \n",
    "                            X_test, y_test)"
   ]
  },
  {
   "cell_type": "markdown",
   "metadata": {},
   "source": [
    "### Random Forest"
   ]
  },
  {
   "cell_type": "markdown",
   "metadata": {},
   "source": [
    "#### Random Forest Base Model"
   ]
  },
  {
   "cell_type": "markdown",
   "metadata": {},
   "source": [
    "[back to top](#Table-of-Contents)"
   ]
  },
  {
   "cell_type": "code",
   "execution_count": 35,
   "metadata": {},
   "outputs": [
    {
     "name": "stdout",
     "output_type": "stream",
     "text": [
      "Train Set Error: 1.57\n",
      "Test Set Error: 3.72\n"
     ]
    }
   ],
   "source": [
    "rforest_base = RandomForestRegressor(random_state=42)\n",
    "rforest_base.fit(X_train, y_train)\n",
    "\n",
    "rforest_base_evaluate = evaluate(rforest_base, X_train, y_train, \n",
    "                                 X_test, y_test)"
   ]
  },
  {
   "cell_type": "code",
   "execution_count": 36,
   "metadata": {},
   "outputs": [
    {
     "data": {
      "text/plain": [
       "<bound method BaseEstimator.get_params of RandomForestRegressor(bootstrap=True, criterion='mse', max_depth=None,\n",
       "           max_features='auto', max_leaf_nodes=None,\n",
       "           min_impurity_decrease=0.0, min_impurity_split=None,\n",
       "           min_samples_leaf=1, min_samples_split=2,\n",
       "           min_weight_fraction_leaf=0.0, n_estimators=10, n_jobs=None,\n",
       "           oob_score=False, random_state=42, verbose=0, warm_start=False)>"
      ]
     },
     "execution_count": 36,
     "metadata": {},
     "output_type": "execute_result"
    }
   ],
   "source": [
    "rforest_base.get_params"
   ]
  },
  {
   "cell_type": "markdown",
   "metadata": {},
   "source": [
    "#### Random Forest Regressor Grid Search Model"
   ]
  },
  {
   "cell_type": "markdown",
   "metadata": {},
   "source": [
    "[back to top](#Table-of-Contents)"
   ]
  },
  {
   "cell_type": "markdown",
   "metadata": {},
   "source": [
    "| Trial | Parameters | Best_Params | Train_rmse | Test_rmse\n",
    "| --- | --- | --- | --- | --- |\n",
    "| 1 | {'max_depth': [80, 90, 100, 110], 'max_features': [2, 3, 4], 'min_samples_leaf': [2, 3, 4, 5], 'min_samples_split': [2, 8, 10, 12], 'n_estimators': [10, 100, 200, 300, 1000]} | {'max_depth': 80, 'max_features': 4,'min_samples_leaf': 1, 'min_samples_split': 2, 'n_estimators': 1000} | 1.27 | 3.78\n",
    "| 2 | {'max_depth': [50], 'max_features': ['auto', 'sqrt'], 'min_samples_leaf': [1, 2], 'min_samples_split': [2, 4], 'n_estimators': [2000]} | {'max_depth': 50, 'max_features': 'sqrt, 'min_samples_leaf': 1, 'min_samples_split': 2, 'n_estimators': 2000}| 1.27 | 3.78\n",
    "| 3 | {'max_depth': [10, 25, 50], 'max_features': ['sqrt'], 'min_samples_leaf': [1], 'min_samples_split': [2], 'n_estimators': [3000, 4000, 5000]} | {'max_depth': 50, 'max_features': 'sqrt, 'min_samples_leaf': 1, 'min_samples_split': 2, 'n_estimators': 3000} | 1.28 | 3.86\n",
    "| 4 | {'max_depth': [50, 80], 'n_estimators': [2000, 3000]} | {'max_depth': 50, 'n_estimators': 3000} | 1.30 | 3.46\n",
    "| 5 | {'max_depth': [50], 'n_estimators': [10000]} | {'max_depth': 50, 'n_estimators': 10000} | 1.30 | 3.46"
   ]
  },
  {
   "cell_type": "code",
   "execution_count": 39,
   "metadata": {},
   "outputs": [
    {
     "name": "stdout",
     "output_type": "stream",
     "text": [
      "Fitting 3 folds for each of 1 candidates, totalling 3 fits\n",
      "[CV] max_depth=50, max_features=sqrt, n_estimators=5000 ..............\n"
     ]
    },
    {
     "name": "stderr",
     "output_type": "stream",
     "text": [
      "[Parallel(n_jobs=1)]: Using backend SequentialBackend with 1 concurrent workers.\n"
     ]
    },
    {
     "name": "stdout",
     "output_type": "stream",
     "text": [
      "[CV]  max_depth=50, max_features=sqrt, n_estimators=5000, total= 8.0min\n",
      "[CV] max_depth=50, max_features=sqrt, n_estimators=5000 ..............\n"
     ]
    },
    {
     "name": "stderr",
     "output_type": "stream",
     "text": [
      "[Parallel(n_jobs=1)]: Done   1 out of   1 | elapsed:  9.2min remaining:    0.0s\n"
     ]
    },
    {
     "name": "stdout",
     "output_type": "stream",
     "text": [
      "[CV]  max_depth=50, max_features=sqrt, n_estimators=5000, total= 7.7min\n",
      "[CV] max_depth=50, max_features=sqrt, n_estimators=5000 ..............\n",
      "[CV]  max_depth=50, max_features=sqrt, n_estimators=5000, total= 7.8min\n"
     ]
    },
    {
     "name": "stderr",
     "output_type": "stream",
     "text": [
      "[Parallel(n_jobs=1)]: Done   3 out of   3 | elapsed: 27.2min finished\n"
     ]
    },
    {
     "name": "stdout",
     "output_type": "stream",
     "text": [
      "{'max_depth': 50, 'max_features': 'sqrt', 'n_estimators': 5000}\n",
      "RandomForestRegressor(bootstrap=True, criterion='mse', max_depth=50,\n",
      "           max_features='sqrt', max_leaf_nodes=None,\n",
      "           min_impurity_decrease=0.0, min_impurity_split=None,\n",
      "           min_samples_leaf=1, min_samples_split=2,\n",
      "           min_weight_fraction_leaf=0.0, n_estimators=5000, n_jobs=None,\n",
      "           oob_score=True, random_state=42, verbose=0, warm_start=False)\n",
      "Train Set Error: 1.29\n",
      "Test Set Error: 3.46\n"
     ]
    }
   ],
   "source": [
    "param_grid = {'max_depth': [50],\n",
    "              'max_features': ['sqrt'],\n",
    "              'n_estimators': [5000]}\n",
    "\n",
    "rf = RandomForestRegressor(random_state=42, oob_score=True)\n",
    "rf_grid_search = GridSearchCV(estimator = rf, param_grid = param_grid, scoring=\"neg_mean_squared_error\", \n",
    "                           cv = 3, verbose = 2)\n",
    "rf_grid_search.fit(X_train, y_train)\n",
    "\n",
    "print(rf_grid_search.best_params_)\n",
    "rf_best_grid = rf_grid_search.best_estimator_\n",
    "print(rf_best_grid)\n",
    "\n",
    "rf_best_grid_evaluate = evaluate(rf_best_grid, X_train, y_train, \n",
    "                            X_test, y_test)"
   ]
  },
  {
   "cell_type": "markdown",
   "metadata": {},
   "source": [
    "<b> The Lowest RMSE score is achieved using Random Forest Regressor with Test RMSE score of 3.46"
   ]
  }
 ],
 "metadata": {
  "kernelspec": {
   "display_name": "Python 3",
   "language": "python",
   "name": "python3"
  },
  "language_info": {
   "codemirror_mode": {
    "name": "ipython",
    "version": 3
   },
   "file_extension": ".py",
   "mimetype": "text/x-python",
   "name": "python",
   "nbconvert_exporter": "python",
   "pygments_lexer": "ipython3",
   "version": "3.6.4"
  },
  "notify_time": "0",
  "toc": {
   "base_numbering": 1,
   "nav_menu": {},
   "number_sections": true,
   "sideBar": true,
   "skip_h1_title": true,
   "title_cell": "Table of Contents",
   "title_sidebar": "Contents",
   "toc_cell": true,
   "toc_position": {},
   "toc_section_display": true,
   "toc_window_display": false
  }
 },
 "nbformat": 4,
 "nbformat_minor": 2
}
